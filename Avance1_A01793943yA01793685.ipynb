{
  "nbformat": 4,
  "nbformat_minor": 0,
  "metadata": {
    "colab": {
      "name": "assignment01.ipynb",
      "provenance": []
    },
    "kernelspec": {
      "name": "python3",
      "display_name": "Python 3"
    },
    "language_info": {
      "name": "python"
    }
  },
  "cells": [
    {
      "cell_type": "code",
      "execution_count": null,
      "metadata": {
        "id": "LzUSMM79NR9P",
        "outputId": "0e6cb421-1096-426a-b31a-f61d059def81",
        "colab": {
          "base_uri": "https://localhost:8080/"
        }
      },
      "outputs": [
        {
          "output_type": "stream",
          "name": "stdout",
          "text": [
            "assignment01 for GitJobish03 and edited in git, and 18\n"
          ]
        }
      ],
      "source": [
        "print('assignment01 for GitJobish03 and edited in git, and 18')"
      ]
    },
    {
      "cell_type": "code",
      "source": [
        "print('prueba')\n"
      ],
      "metadata": {
        "id": "mxM_WppZPMFx",
        "outputId": "1af45e82-0709-48ed-a925-8283263deb44",
        "colab": {
          "base_uri": "https://localhost:8080/"
        }
      },
      "execution_count": 1,
      "outputs": [
        {
          "output_type": "stream",
          "name": "stdout",
          "text": [
            "prueba\n"
          ]
        }
      ]
    },
    {
      "cell_type": "markdown",
      "source": [
        "1. El nombre que caracteriza el conjunto de datos: Conjunto de datos de TED Talks web-scraped. \n",
        "\n",
        "2. La organización que lo generó: TED conferences\n",
        "\n",
        "3. Incluya un enlace de Internet donde se puedan descargar en línea y enviar como una hoja de cálculo junto con su informe correspondiente: https://www.kaggle.com/datasets/jeniagerasimov/ted-talks-info-dataset \n",
        "\n",
        "4. Describe el conjunto de datos. ¿Qué datos contiene?: Conjunto de datos que contiene información extraída sobre todas las conversaciones en el sitio web oficial de TED. Contiene 16 variables, una de ellas incluye la transcripción completa de cada TED Talk.\n",
        "\n",
        "5. ¿Cuáles son algunas de las preguntas de investigación que podría responder con estos datos? Enumere al menos OCHO (no responda las preguntas): \n",
        "- Temas más vistos en las charlas\n",
        "- Volumen de charlas por cada temática\n",
        "- Palabras más utilizadas\n",
        "- Temas con más likes\n",
        "- Cambio de temáticas en los últimos años \n",
        "- Perfiles de speakers más vistos \n",
        "- Inclusión: número de idiomas \n",
        "- Importancia de la redacción del título \n",
        "\n",
        "6. ¿Qué actor (empresa, sector de la sociedad, organismo descentralizado, gobierno, etc.) estaría interesado en las preguntas mencionadas que identificó?. \n",
        "- TED, ya que el análisis de estos datos les puede ser de utilidad para generar tips para las charlas que adelante se impartan.\n",
        "- Sector educativo\n",
        "- Conferencistas y el sector donde operan\n"
      ],
      "metadata": {
        "id": "TlyyBRo6aS69"
      }
    }
  ]
}