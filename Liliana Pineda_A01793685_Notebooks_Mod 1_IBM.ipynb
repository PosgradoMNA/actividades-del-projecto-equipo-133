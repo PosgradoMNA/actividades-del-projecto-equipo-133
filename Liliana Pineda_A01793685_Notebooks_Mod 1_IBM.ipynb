{
  "nbformat": 4,
  "nbformat_minor": 0,
  "metadata": {
    "colab": {
      "provenance": []
    },
    "kernelspec": {
      "name": "python3",
      "display_name": "Python 3"
    },
    "language_info": {
      "name": "python"
    }
  },
  "cells": [
    {
      "cell_type": "markdown",
      "source": [
        "**NOTEBOOKS**"
      ],
      "metadata": {
        "id": "-cwZRR1l21WE"
      }
    },
    {
      "cell_type": "markdown",
      "source": [
        "Estimación de precios de automóviles usados con Python\n",
        "- Descripción general paquetes de Pythonpara el análisis de datos\n",
        "- Cómo importar y exportar datos en y desde Python\n",
        "- Cómo obtener información básica del conjunto de datos sobre automóviles usados ​​y sus precios\n",
        "- Aprender a analizar datos en Python:\n",
        "  - Estimar el precio de un coche usado en función de sus características\n",
        "  - Realizar la limpieza de datos\n",
        "  - Análisis exploratorio de datos, desarrollo de modelos y evaluación de modelos."
      ],
      "metadata": {
        "id": "Cdm8Y1ex239b"
      }
    },
    {
      "cell_type": "markdown",
      "source": [
        "Importancia del análisis de datos\n",
        "**texto en negrita**\n",
        "- Los datos se recopilan en todas partes a nuestro alrededor, ya sea manualmente\n",
        "por científicos, o recopilados digitalmente cada vez que hace clic en un sitio web o en su dispositivo móvil dispositivo.\n",
        "\n",
        "-Los datos no significa información\n",
        "\n",
        "- El análisis de datos y, en esencia, la ciencia de datos, nos ayuda a desbloquear la información y los conocimientos.\n",
        "\n",
        "- El análisis de datos juega un papel importante al ayudarnos a descubrir información útil (predecir el futuro o lo desconocido).\n"
      ],
      "metadata": {
        "id": "NioNfOq64jaa"
      }
    },
    {
      "cell_type": "markdown",
      "source": [
        "Si alguien quiere vender su auto y no sabe por cuánto hacerlo, fijándo un precio razonable. \n",
        "\n",
        "Preguntas a resolver: \n",
        "- ¿hay datos sobre los precios de otros coches y sus características?\n",
        "- ¿Qué características de los automóviles afectan sus precios?\n",
        "- ¿Color?\n",
        "- ¿Marca?\n",
        "- ¿Los caballos de fuerza también afectan el precio de venta, o tal vez, algo más?\n",
        "\n",
        "Para responder a estas preguntas, vamos a necesitar algunos datos."
      ],
      "metadata": {
        "id": "3MIt-Nag46Fa"
      }
    },
    {
      "cell_type": "markdown",
      "source": [
        "Datos\n",
        "**texto en negrita**\n",
        "\n",
        "- La mayoría de datos están en formato CSV, que significa separado por comas. Es muy fácil de importar en la mayoría de herramientas o aplicaciones.\n",
        "\n",
        "- Cada línea representa una fila en el conjunto de datos.\n",
        "\n",
        "- La primera fila es un encabezado contiene un nombre de columna para cada uno.\n",
        "\n",
        "- Para revisar se puede consultar las 5 primeras filas y en la parte inferior sale el resumen.\n",
        "\n",
        "Algunos atributos son: \n",
        "\n",
        "- Primer atributo: \"simbolización\", corresponde al nivel de riesgo de seguro de un automóvil. A los automóviles se les asigna inicialmente un símbolo de factor de riesgo asociado con su precio. Entonces, si un automóvil es más arriesgado, este símbolo se ajusta subiéndolo en la escala. Un valor de +3 indica que el auto es arriesgado, -3 que probablemente sea bastante seguro.\n",
        "\n",
        "- Segundo atributo: \"pérdidas normalizadas\", es el pago de pérdida promedio relativo por asegurado año del vehículo. Este valor está normalizado para todos los automóviles dentro de una clasificación de tamaño particular (dos puertas\n",
        "pequeños, familiares, deportivos/especializados, etc...), y representa la pérdida promedio por coche al año. Los valores oscilan entre 65 y 256.\n",
        "\n",
        "El atributo \"precio\", es nuestro valor objetivo, o etiqueta o lo que queremos predecir y las demás variables como \"simbolización\", \"pérdidas normalizadas\"...\n"
      ],
      "metadata": {
        "id": "6JdJ77CU5rPZ"
      }
    },
    {
      "cell_type": "markdown",
      "source": [
        "Paquetes principales para el análisis en Python\n",
        "**texto en negrita**\n",
        "- Una biblioteca de Python es una colección de funciones y métodos que le permiten realizar muchas  acciones sin escribir ningún código.\n",
        "\n",
        "- Las bibliotecas suelen contener módulos incorporados que proporcionan diferentes funcionalidades, que Puedes usar directamente.\n",
        "\n",
        "- Hay extensas bibliotecas, que ofrecen una amplia gama de instalaciones. Existen tres grupos: \n",
        "\n",
        "1. Bibliotecas de computación científica\". \n",
        "\n",
        "- Pandas ofrece estructura de datos y herramientas para manipulación y análisis de datos efectivos. Proporciona acceso rápido a datos estructurados. El instrumento principal de Pandas es una tabla bidimensional que consta de etiquetas de columnas y filas, que se denominan DataFrame. Está diseñado para proporcionar una funcionalidad de indexación fácil. \n",
        "\n",
        "- La biblioteca Numpy usa arreglos para sus entradas y salidas. Se puede extender a objetos para matrices y, con cambios menores de codificación, los desarrolladores puede realizar un procesamiento de matriz rápido. \n",
        "\n",
        "- SciPy incluye funciones para algunos problemas matemáticos avanzados, como se enumeran en esta diapositiva, como\n",
        "así como la visualización de datos.\n",
        "\n",
        "El uso de métodos de visualización de datos es la mejor manera de comunicarse con los demás, mostrándoles resultados significativos del análisis.\n",
        "\n",
        "Estas bibliotecas le permiten crear gráficos, tablas y mapas.\n",
        "\n",
        "- El paquete Matplotlib es la biblioteca más conocida para la visualización de datos. Es ideal para hacer gráficos y diagramas. Los gráficos también son altamente personalizables. Otra biblioteca de visualización de alto nivel es Seaborn. Está basado en Matplotlib. Es muy fácil generar varios gráficos, como mapas de calor, series temporales y violín. \n",
        "\n",
        "Con los algoritmos de Machine Learning, podemos desarrollar un modelo utilizando nuestro conjunto de datos y obtener predicciones.\n",
        "\n",
        "2. Bibliotecas algorítmicas\n",
        "\n",
        "- Abordan algunas tareas de aprendizaje automático desde básicas hasta complejas.\n",
        "\n",
        "- La biblioteca Scikit-learn contiene herramientas para modelado estadístico, incluyendo regresión, clasificación, agrupamiento, etc. Esta biblioteca se basa en NumPy, SciPy y Matplotlib. \n",
        "\n",
        "- StatsModels también es un módulo de Python que permite a los usuarios explorar datos, estimar estadísticas modelos y realizar pruebas estadísticas."
      ],
      "metadata": {
        "id": "rtB-nkvr-N1X"
      }
    },
    {
      "cell_type": "markdown",
      "source": [
        "Cómo leer datos usando el paquete pandas de Python\n",
        "**texto en negrita**\n",
        "\n",
        "- Una vez que tenemos nuestros datos en Python, podemos realizar todos los procedimientos de análisis de datos posteriores.\n",
        "\n",
        "- La adquisición de datos es un proceso de carga y lectura de datos en el cuaderno desde varias fuentes.\n",
        "\n",
        "- Para leer cualquier dato usando el paquete pandas de Python, hay dos factores importantes a considerar:\n",
        "\n",
        "1. Formato. El formato es la forma en que se codifican los datos. Por lo general, podemos distinguir diferentes esquemas de codificación mirando el final del nombre del archivo. Algunas codificaciones comunes son csv, json, xlsx, hdf, etc.\n",
        "\n",
        "2. Ruta del archivo. La ruta (archivo) nos dice dónde se almacenan los datos.\n",
        "Por lo general, se almacena en la computadora que estamos usando o en línea en Internet. \n"
      ],
      "metadata": {
        "id": "9VgXWxe__gin"
      }
    },
    {
      "cell_type": "markdown",
      "source": [
        "\n",
        "En pandas, el método “read_csv()” puede leer archivos con columnas separadas por comas en un marco de datos de pandas.\n",
        "\n",
        "La lectura de datos en pandas se puede hacer rápidamente en tres líneas.\n",
        "\n",
        "1. Importa pandas.\n",
        "2. Define una variable con la ruta del archivo.\n",
        "3. Usa el método read_csv para importar los datos.\n",
        "\n",
        "\"Read_csv\" asume que los datos contienen un encabezado.\n",
        "\n",
        "Después de leer el conjunto de datos, es una buena idea mirar el marco de datos para obtener una mejor intuición y para asegurarse de que todo ocurrió de la manera que esperaba.\n",
        "\n",
        "Para imprimir el conjunto de datos podemos comprobar usando dataframe.head() para mostrar las primeras n filas del marco de datos. Del mismo modo, dataframe.tail(n) muestra las n filas inferiores del marco de datos. Aquí, imprimimos las primeras 5 filas de datos. \n",
        "\n",
        "4. Pon los nombres de las columnas en una lista llamada encabezados.\n",
        "\n",
        "5. Configura df.columns equals headers para reemplazar los encabezados enteros predeterminados de la lista.\n",
        "\n",
        "Para exportar su marco de datos de pandas a un nuevo archivo CSV, puedes hacer esto usando el método, ”to_csv()\". Para hacer esto, especifica la ruta del archivo (que incluye el nombre del archivo) en el que desea escribir."
      ],
      "metadata": {
        "id": "NyKKj5ToAWgA"
      }
    },
    {
      "cell_type": "markdown",
      "source": [
        "Métodos simples - Pandas\n",
        "**texto en negrita**\n",
        "\n",
        "- Pandas tiene varios métodos integrados que podrían usarse para comprender el tipo de datos de características o para observar la distribución de datos dentro del conjunto de datos.\n",
        "\n",
        "- El uso de estos métodos brinda una descripción general del conjunto de datos.\n",
        "Y también señalar problemas potenciales, como el tipo de datos incorrecto de características.\n",
        "\n",
        "- Los datos tienen una variedad de tipos. Los principales tipos almacenados en los objetos de Pandas son: \n",
        "\n",
        "1. Object\n",
        "2. Float\n",
        "3. Int \n",
        "4. Datetime\n",
        "\n",
        "Algunos son muy similares, como los tipos de datos numéricos \"int\" y \"float\".\n",
        "\n",
        "El tipo de pandas \"objeto\" funciona de manera similar a \"cadena\" en Python, excepto por el cambio en el nombre, mientras que el tipo pandas \"datetime\", es un tipo muy útil para manejar series temporales datos.\n",
        "\n",
        "Hay dos razones para verificar los tipos de datos en un conjunto de datos.\n",
        "\n",
        "- Pandas asigna tipos automáticamente en función de la codificación que detecta del original tabla de datos.\n",
        "\n",
        "Si algunas funciones se aplican a datos no numéricos, puede producirse un error.\n",
        "Cuando se aplica el método \"dtype\" al conjunto de datos, el tipo de datos de cada columna se vuelve en una Serie.\n",
        "\n",
        "La intuición de un buen científico de datos nos dice que la mayoría de los tipos de datos tienen sentido. La marca de los coches, por ejemplo, son nombres,\n",
        "por lo que esta información debe ser de tipo objeto.\n"
      ],
      "metadata": {
        "id": "hdsHsAXBBuMH"
      }
    },
    {
      "cell_type": "markdown",
      "source": [
        "Resumen estadístico\n",
        "**texto en negrita**\n",
        "- Revisar el resumen estadístico de cada columna para conocer el\n",
        "distribución de datos en cada columna.\n",
        "\n",
        "- Las métricas estadísticas pueden decirle al científico de datos si hay problemas matemáticos, como valores atípicos extremos y grandes desviaciones.\n",
        "\n",
        "- Para obtener estadísticas rápidas, usamos el método *describe*.\n",
        "Devuelve el número de términos en la columna como \"recuento\", valor de columna promedio como \"media\", desviación estándar de la columna como \"std\", los valores máximo y mínimo, así como el límite de cada uno de los cuartiles.\n",
        "\n",
        "De forma predeterminada, la función dataframe.describe() omite filas y columnas que no contienen números.\n",
        "\n",
        "También es posible hacer que el método de descripción funcione para columnas de tipo objeto.\n",
        "\n",
        "Para habilitar un resumen de todas las columnas, podríamos agregar un argumento include = \"all\" dentro el corchete de la función de descripción.\n",
        "\n",
        "Ahora el resultado muestra el resumen de las columnas, incluidos los atributos de tipo objeto.\n",
        "\n",
        "Otro método que puede usar para verificar su conjunto de datos es la función dataframe.info. Esta función muestra las 30 filas superiores y las 30 filas inferiores del marco de datos."
      ],
      "metadata": {
        "id": "7EwJoV5JDMgv"
      }
    },
    {
      "cell_type": "markdown",
      "source": [],
      "metadata": {
        "id": "ouD16SKeD1hN"
      }
    }
  ]
}